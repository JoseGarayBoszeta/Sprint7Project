{
 "cells": [
  {
   "cell_type": "markdown",
   "metadata": {},
   "source": [
    "<div style=\"border:solid green 2px; padding: 20px\">\n",
    "    \n",
    "<b>Hello!</b> We're glad to see you in code-reviewer territory. You've done a great job on the project, but let's get to know each other and make it even better! We have our own atmosphere here and a few rules:\n",
    "\n",
    "\n",
    "1. My name is Alexander Matveevsky. I work as a code reviewer, and my main goal is not to point out your mistakes, but to share my experience and help you become a data analyst.\n",
    "2. We speak on a first-come-first-served basis.\n",
    "3. if you want to write or ask a question, don't be shy. Just choose your color for your comment.  \n",
    "4. this is a training project, you don't have to be afraid of making a mistake.  \n",
    "5. You have an unlimited number of attempts to pass the project.  \n",
    "6. Let's Go!\n",
    "\n",
    "\n",
    "---\n",
    "I'll be color-coding comments, please don't delete them:\n",
    "\n",
    "<div class=\"alert alert-block alert-danger\">✍\n",
    "    \n",
    "\n",
    "__Reviewer's comment №1__\n",
    "\n",
    "Needs fixing. The block requires some corrections. Work can't be accepted with the red comments.\n",
    "</div>\n",
    "    \n",
    "---\n",
    "\n",
    "<div class=\"alert alert-block alert-warning\">📝\n",
    "    \n",
    "\n",
    "__Reviewer's comment №1__\n",
    "\n",
    "\n",
    "Remarks. Some recommendations.\n",
    "</div>\n",
    "\n",
    "---\n",
    "\n",
    "<div class=\"alert alert-block alert-success\">✔️\n",
    "    \n",
    "\n",
    "__Reviewer's comment №1__\n",
    "\n",
    "Success. Everything is done succesfully.\n",
    "</div>\n",
    "    \n",
    "---\n",
    "    \n",
    "I suggest that we work on the project in dialogue: if you change something in the project or respond to my comments, write about it. It will be easier for me to track changes if you highlight your comments:   \n",
    "    \n",
    "<div class=\"alert alert-info\"> <b>Student сomments:</b> Student answer..</div>\n",
    "    \n",
    "All this will help to make the recheck of your project faster. If you have any questions about my comments, let me know, we'll figure it out together :)   \n",
    "    \n",
    "---"
   ]
  },
  {
   "cell_type": "markdown",
   "metadata": {},
   "source": [
    "Congratulations! You’ve completed another training platform course. Now is the perfect time to test your skills and solve a new machine learning problem. For this project, you will be on your own.<br>\n",
    "When you finish, send your work to the project reviewer. You will receive feedback within 24 hours. After that, you will make any necessary changes to you work and send it for a second review.<br>\n",
    "Usually this process has to be repeated several times until you get the green light from the reviewer and all the corrections are approved. That’s all part of the job.<br>\n",
    "# Project description\n",
    "Mobile carrier Megaline has found out that many of their subscribers use legacy plans. They want to develop a model that would analyze subscribers' behavior and recommend one of Megaline's newer plans: Smart or Ultra.<br>\n",
    "You have access to behavior data about subscribers who have already switched to the new plans (from the project for the Statistical Data Analysis course). For this classification task, you need to develop a model that will pick the right plan. Since you’ve already performed the data preprocessing step, you can move straight to creating the model.<br>\n",
    "Develop a model with the **highest possible accuracy.** In this project, the threshold for accuracy is 0.75. Check the accuracy using the test dataset.<br>\n",
    "#### Project instructions\n",
    "• Open and look through the data file. Path to the <u>file:datasets/users_behavior.csv</u> Download dataset<br>\n",
    "• Split the source data into a training set, a validation set, and a test set.<br>\n",
    "• Investigate the quality of different models by changing hyperparameters. Briefly describe the findings of the study.<br>\n",
    "• Check the quality of the model using the test set.<br>\n",
    "• Additional task: sanity check the model. This data is more complex than what you’re used to working with, so it's not an easy task. We'll take a closer look at it later.<br>\n",
    "#### Data description\n",
    "Every observation in the dataset contains monthly behavior information about one user. The information given is as follows:<br>\n",
    "*сalls — number of calls,<br>\n",
    "minutes — total call duration in minutes,<br>\n",
    "messages — number of text messages,<br>\n",
    "mb_used — Internet traffic used in MB,<br>\n",
    "is_ultra — plan for the current month (Ultra - 1, Smart - 0).<br>*\n",
    "#### Project evaluation\n",
    "We’ve put together the evaluation criteria for the project. Read this carefully before moving on to the task.<br>\n",
    "Here’s what the reviewers will look at when reviewing your project:<br>\n",
    "• How did you look into data after downloading?<br>\n",
    "• Have you correctly split the data into train, validation, and test sets?<br>\n",
    "• How have you chosen the sets' sizes?<br>\n",
    "• Did you evaluate the quality of the models correctly?<br>\n",
    "• What models and hyperparameters did you use?<br>\n",
    "• What are your findings?<br>\n",
    "• Did you test the models correctly?<br>\n",
    "• What is your accuracy score?<br>\n",
    "• Have you stuck to the project structure and kept the code neat?<br>\n",
    "The Knowledge Base has everything you need to help you complete the project.<br>\n",
    "Good luck!<br>"
   ]
  },
  {
   "cell_type": "markdown",
   "metadata": {},
   "source": [
    "<div class=\"alert alert-block alert-success\">✔️\n",
    "    \n",
    "\n",
    "__Reviewer's comment №1__\n",
    "An excellent practice is to describe the goal and main steps in your own words (a skill that will help a lot on a final project). It would be good to add the progress and purpose of the study."
   ]
  },
  {
   "cell_type": "markdown",
   "metadata": {},
   "source": [
    "# Project purpose:\n",
    "To investigate three different basic algorithms for machine learning included on Scikit Learn: Decision Tree, Random Forest and Logistic Regression. We will divide the dataframe in three sets: training (60%) validation (20%) and testing (20%). We will train each algorithm with different hyperparameters and measure their performance with the accuracy_score, classification_report and confusion_matrix methods. This will allows us to find the best model to use for classification tasks."
   ]
  },
  {
   "cell_type": "code",
   "execution_count": 1,
   "metadata": {},
   "outputs": [],
   "source": [
    "# Import all libraries used through the project\n",
    "import pandas as pd\n",
    "import matplotlib.pyplot as plt\n",
    "import numpy as np\n",
    "from matplotlib.colors import ListedColormap\n",
    "from sklearn.datasets import make_moons, make_circles\n",
    "from sklearn.model_selection import train_test_split\n",
    "from sklearn.ensemble import RandomForestClassifier\n",
    "from sklearn.tree import DecisionTreeClassifier\n",
    "from sklearn.linear_model import LogisticRegression\n",
    "from sklearn.preprocessing import StandardScaler\n",
    "from sklearn.pipeline import make_pipeline\n",
    "from sklearn.metrics import accuracy_score\n",
    "from sklearn.preprocessing import StandardScaler\n",
    "from sklearn.metrics import classification_report, confusion_matrix"
   ]
  },
  {
   "cell_type": "markdown",
   "metadata": {},
   "source": [
    "<div class=\"alert alert-block alert-warning\">📝\n",
    "    \n",
    "\n",
    "__Reviewer's comment №1__\n",
    "\n",
    "\n",
    "It is better to unload all necessary libraries in one cell (at the beginning of the project)\n",
    "    \n",
    "<div class=\"alert alert-info\"> <b>Student сomments:</b> Noted. I added all the libraries in the first cell.</div>    "
   ]
  },
  {
   "cell_type": "markdown",
   "metadata": {},
   "source": [
    "<div class=\"alert alert-block alert-success\">✔️\n",
    "    \n",
    "\n",
    "__Reviewer's comment №2__\n",
    "    \n",
    "Correct"
   ]
  },
  {
   "cell_type": "code",
   "execution_count": 2,
   "metadata": {},
   "outputs": [],
   "source": [
    "# • Open and look through the data file.\n",
    "df = pd.read_csv('/datasets/users_behavior.csv')"
   ]
  },
  {
   "cell_type": "code",
   "execution_count": 3,
   "metadata": {},
   "outputs": [
    {
     "name": "stdout",
     "output_type": "stream",
     "text": [
      "(3214, 5)\n"
     ]
    },
    {
     "data": {
      "text/html": [
       "<div>\n",
       "<style scoped>\n",
       "    .dataframe tbody tr th:only-of-type {\n",
       "        vertical-align: middle;\n",
       "    }\n",
       "\n",
       "    .dataframe tbody tr th {\n",
       "        vertical-align: top;\n",
       "    }\n",
       "\n",
       "    .dataframe thead th {\n",
       "        text-align: right;\n",
       "    }\n",
       "</style>\n",
       "<table border=\"1\" class=\"dataframe\">\n",
       "  <thead>\n",
       "    <tr style=\"text-align: right;\">\n",
       "      <th></th>\n",
       "      <th>calls</th>\n",
       "      <th>minutes</th>\n",
       "      <th>messages</th>\n",
       "      <th>mb_used</th>\n",
       "      <th>is_ultra</th>\n",
       "    </tr>\n",
       "  </thead>\n",
       "  <tbody>\n",
       "    <tr>\n",
       "      <th>0</th>\n",
       "      <td>40.0</td>\n",
       "      <td>311.90</td>\n",
       "      <td>83.0</td>\n",
       "      <td>19915.42</td>\n",
       "      <td>0</td>\n",
       "    </tr>\n",
       "    <tr>\n",
       "      <th>1</th>\n",
       "      <td>85.0</td>\n",
       "      <td>516.75</td>\n",
       "      <td>56.0</td>\n",
       "      <td>22696.96</td>\n",
       "      <td>0</td>\n",
       "    </tr>\n",
       "    <tr>\n",
       "      <th>2</th>\n",
       "      <td>77.0</td>\n",
       "      <td>467.66</td>\n",
       "      <td>86.0</td>\n",
       "      <td>21060.45</td>\n",
       "      <td>0</td>\n",
       "    </tr>\n",
       "    <tr>\n",
       "      <th>3</th>\n",
       "      <td>106.0</td>\n",
       "      <td>745.53</td>\n",
       "      <td>81.0</td>\n",
       "      <td>8437.39</td>\n",
       "      <td>1</td>\n",
       "    </tr>\n",
       "    <tr>\n",
       "      <th>4</th>\n",
       "      <td>66.0</td>\n",
       "      <td>418.74</td>\n",
       "      <td>1.0</td>\n",
       "      <td>14502.75</td>\n",
       "      <td>0</td>\n",
       "    </tr>\n",
       "    <tr>\n",
       "      <th>...</th>\n",
       "      <td>...</td>\n",
       "      <td>...</td>\n",
       "      <td>...</td>\n",
       "      <td>...</td>\n",
       "      <td>...</td>\n",
       "    </tr>\n",
       "    <tr>\n",
       "      <th>3209</th>\n",
       "      <td>122.0</td>\n",
       "      <td>910.98</td>\n",
       "      <td>20.0</td>\n",
       "      <td>35124.90</td>\n",
       "      <td>1</td>\n",
       "    </tr>\n",
       "    <tr>\n",
       "      <th>3210</th>\n",
       "      <td>25.0</td>\n",
       "      <td>190.36</td>\n",
       "      <td>0.0</td>\n",
       "      <td>3275.61</td>\n",
       "      <td>0</td>\n",
       "    </tr>\n",
       "    <tr>\n",
       "      <th>3211</th>\n",
       "      <td>97.0</td>\n",
       "      <td>634.44</td>\n",
       "      <td>70.0</td>\n",
       "      <td>13974.06</td>\n",
       "      <td>0</td>\n",
       "    </tr>\n",
       "    <tr>\n",
       "      <th>3212</th>\n",
       "      <td>64.0</td>\n",
       "      <td>462.32</td>\n",
       "      <td>90.0</td>\n",
       "      <td>31239.78</td>\n",
       "      <td>0</td>\n",
       "    </tr>\n",
       "    <tr>\n",
       "      <th>3213</th>\n",
       "      <td>80.0</td>\n",
       "      <td>566.09</td>\n",
       "      <td>6.0</td>\n",
       "      <td>29480.52</td>\n",
       "      <td>1</td>\n",
       "    </tr>\n",
       "  </tbody>\n",
       "</table>\n",
       "<p>3214 rows × 5 columns</p>\n",
       "</div>"
      ],
      "text/plain": [
       "      calls  minutes  messages   mb_used  is_ultra\n",
       "0      40.0   311.90      83.0  19915.42         0\n",
       "1      85.0   516.75      56.0  22696.96         0\n",
       "2      77.0   467.66      86.0  21060.45         0\n",
       "3     106.0   745.53      81.0   8437.39         1\n",
       "4      66.0   418.74       1.0  14502.75         0\n",
       "...     ...      ...       ...       ...       ...\n",
       "3209  122.0   910.98      20.0  35124.90         1\n",
       "3210   25.0   190.36       0.0   3275.61         0\n",
       "3211   97.0   634.44      70.0  13974.06         0\n",
       "3212   64.0   462.32      90.0  31239.78         0\n",
       "3213   80.0   566.09       6.0  29480.52         1\n",
       "\n",
       "[3214 rows x 5 columns]"
      ]
     },
     "metadata": {},
     "output_type": "display_data"
    },
    {
     "name": "stdout",
     "output_type": "stream",
     "text": [
      "Duplicated rows: 0 \n",
      "\n",
      "Null values:\n",
      " calls       0\n",
      "minutes     0\n",
      "messages    0\n",
      "mb_used     0\n",
      "is_ultra    0\n",
      "dtype: int64\n"
     ]
    }
   ],
   "source": [
    "\n",
    "print(df.shape)\n",
    "display(df)\n",
    "\n",
    "# Check for duplicated and null values.\n",
    "print(\"Duplicated rows:\", df.duplicated().sum(),\"\\n\")\n",
    "print(\"Null values:\\n\", df.isna().sum())"
   ]
  },
  {
   "cell_type": "markdown",
   "metadata": {},
   "source": [
    "<div class=\"alert alert-block alert-danger\">✍\n",
    "    \n",
    "\n",
    "__Reviewer's comment №1__\n",
    "\n",
    "\n",
    "I suggest separating logically different things:\n",
    "\n",
    "    - library imports\n",
    "    - data opening (this may not be a trivial process)\n",
    "    - working code\n",
    "    \n",
    "This approach will improve code readability, reduce the time of searching for errors, if there are any, and exclude code re-execution\n",
    "</div>\n",
    "<div class=\"alert alert-info\"> <b>Student сomments:</b> I separated the sections.</div>  "
   ]
  },
  {
   "cell_type": "markdown",
   "metadata": {},
   "source": [
    "<div class=\"alert alert-block alert-danger\">✍\n",
    "    \n",
    "\n",
    "__Reviewer's comment №2__\n",
    "\n",
    " I want to highlight the significance of adhering to PEP 8 standards for code organization. It's important to separate the different parts of your code logically, following a clear structure based on PEP 8 best practices. This not only enhances the readability of the code but also makes it easier to debug and maintain in the long run. Specifically, partitioning the code into distinct sections such as library imports, data opening, and the working code would greatly improve the overall organization of your script. This simple adjustment aligns with industry best practices and helps streamline the overall development process. If you have any questions about implementing these changes, feel free to ask for further assistance.\n",
    "    \n",
    "<div class=\"alert alert-info\"> <b>Student сomments:</b> I improved the indentation and commentary in the code cells according to PEP8 best practices. What is it specifically I need to improve in the layout? I believe I am doing exactly what you're asking me to. If you can point at some section that can be improved specifically, please let me know what are you refering to and I will work on it.</div>  "
   ]
  },
  {
   "attachments": {
    "image-2.png": {
     "image/png": "[encoded data removed]"
    },
    "image.png": {
     "image/png": "[encoded data removed]"
    }
   },
   "cell_type": "markdown",
   "metadata": {},
   "source": [
    "<div class=\"alert alert-block alert-warning\">📝\n",
    "    \n",
    "\n",
    "__Reviewer's comment №3__\n",
    "    \n",
    "The data upload (pd.read....) should be in a separate code cell    \n",
    "\n",
    "![image.png](attachment:image.png) ![image-2.png](attachment:image-2.png)"
   ]
  },
  {
   "cell_type": "markdown",
   "metadata": {},
   "source": [
    "### What is the target? \n",
    "The target is 'is_ultra', a categorical variable representing plan selection.\n",
    "The target 'is_ultra' already has the categorical variables expressed as boolean values (0= 'Smart Plan', 1= 'Ultra Plan'). We don't need to further define them by using conditional statements.\n",
    "\n",
    "### What are the features?\n",
    "The features are all the other numerical variables in the df (calls ,minutes, messages, mb_used). The model we select will train with the input features to predict the output target. Since the target is a categorical value, this is a classification task similar to the that in chapter \"Classification and Regression\"."
   ]
  },
  {
   "cell_type": "markdown",
   "metadata": {},
   "source": [
    "<div class=\"alert alert-block alert-danger\">✍\n",
    "    \n",
    "\n",
    "__Reviewer's comment №1__\n",
    "\n",
    "I'll leave a general comment on the project: let's move all the action moves and conclusions to a regular markdown cell, shall we? Only the code itself is worth commenting\n",
    "\n",
    "<div class=\"alert alert-info\"> <b>Student сomments:</b> Noted. I moved all project commentary and conclusions to markdown cells and left only code comments on the python cells.</div>  "
   ]
  },
  {
   "cell_type": "markdown",
   "metadata": {},
   "source": [
    "<div class=\"alert alert-block alert-success\">✔️\n",
    "    \n",
    "\n",
    "__Reviewer's comment №2__\n",
    "\n",
    "All right"
   ]
  },
  {
   "cell_type": "markdown",
   "metadata": {},
   "source": [
    "### • Split the source data into a training set, a validation set, and a test set.\n",
    "\n",
    "From chapter \"Validation Dataset\": \"*2) [if] test set doesn't exist. In that case, the source data has to be split into three parts: training, validation, and test. The sizes of validation set and test set are usually equal. It gives us source data split in a 3:1:1 ratio.*\"<br>\n",
    "\n",
    "Since **train_test_split** can only split the data source in two parts, we will need to run it twice.  We know the final proportions should be: training set (60%), validation set (20%) and test set (20%). We will first split the source data into a training set (60%) and a temporary set (40%) and then split the temporary set in half (50/50%), resulting in a validation set (20%) and test set (20%). We will use random_state=1313 throughout the project to keep the same pseudorandom generation."
   ]
  },
  {
   "cell_type": "code",
   "execution_count": 3,
   "metadata": {},
   "outputs": [
    {
     "name": "stdout",
     "output_type": "stream",
     "text": [
      "Shape of 'features_train' df: (1928, 4)\n",
      "Shape of 'target_train' array: (1928,)\n",
      "Shape of 'features_valid' df: (643, 4)\n",
      "Shape of 'target_valid' array: (643,)\n",
      "Shape of 'features_test' df: (643, 4)\n",
      "Shape of 'target_test' array: (643,)\n"
     ]
    }
   ],
   "source": [
    "# Split the data into training (60%) and temporary set (40%)\n",
    "df_train, df_temp = train_test_split(\n",
    "    df, test_size=0.4, random_state=1313\n",
    ")\n",
    "\n",
    "# Split the temporary set into validation (50%) and testing set (50%)\n",
    "df_valid, df_test = train_test_split(\n",
    "    df_temp, test_size=0.5, random_state=1313\n",
    ")\n",
    "\n",
    "# Declare 'features' and 'target' variables for each of the sets:\n",
    "# Training set\n",
    "features_train = df_train.drop(\n",
    "    ['is_ultra'], axis=1\n",
    ")\n",
    "target_train = df_train['is_ultra']\n",
    "# Validation set\n",
    "features_valid = df_valid.drop(\n",
    "['is_ultra'], axis=1\n",
    ")\n",
    "target_valid = df_valid['is_ultra']\n",
    "# Testing set\n",
    "features_test = df_test.drop(\n",
    "    ['is_ultra'], axis=1\n",
    ")\n",
    "target_test = df_test['is_ultra']\n",
    "\n",
    "print(\"Shape of 'features_train' df:\", features_train.shape)\n",
    "print(\"Shape of 'target_train' array:\", target_train.shape)\n",
    "print(\"Shape of 'features_valid' df:\", features_valid.shape)\n",
    "print(\"Shape of 'target_valid' array:\", target_valid.shape)\n",
    "print(\"Shape of 'features_test' df:\", features_test.shape)\n",
    "print(\"Shape of 'target_test' array:\", target_test.shape)"
   ]
  },
  {
   "cell_type": "markdown",
   "metadata": {},
   "source": [
    "<div class=\"alert alert-block alert-success\">✔️\n",
    "    \n",
    "\n",
    "__Reviewer's comment №1__\n",
    "\n",
    "1. It is good here, random_state is fixed. We have ensured reproducibility of the results of splitting the sample into training (training) / test / validation samples, so the subsamples will be identical in all subsequent runs of our code.\n",
    "    \n",
    "2. Fraction of train/valid/test sizes 3:1:1 is good.\n",
    "\n",
    "\n",
    "</div>"
   ]
  },
  {
   "cell_type": "markdown",
   "metadata": {},
   "source": [
    "### • Investigate the quality of different models by changing hyperparameters. Briefly describe the findings of the study.\n",
    "From Chapter 4/7 \"Hyperparameters\": \"*In addition to regular model parameters, we have hyperparameters. These are settings for learning algorithms. (...) Hyperparameters help to improve the model. They can be tuned before training.*\"\n",
    "\n",
    "The models we will investigate are: \n",
    "\n",
    "1) Decision Tree Classifier<br>\n",
    "2) Random Forest Classifier<br>\n",
    "3) Logistic Regression<br>"
   ]
  },
  {
   "cell_type": "code",
   "execution_count": 4,
   "metadata": {},
   "outputs": [
    {
     "name": "stdout",
     "output_type": "stream",
     "text": [
      "max_depth = 1 : 0.7169517884914464\n",
      "max_depth = 2 : 0.7542768273716952\n",
      "max_depth = 3 : 0.7791601866251944\n",
      "max_depth = 4 : 0.7744945567651633\n",
      "max_depth = 5 : 0.776049766718507\n",
      "\n",
      "Accuracy of the model on the training set: 0.8236514522821576\n",
      "Accuracy of the best model on the validation set: 0.7791601866251944\n",
      "Best model on the validation set: DecisionTreeClassifier(max_depth=3, random_state=1313)\n"
     ]
    }
   ],
   "source": [
    "# 1) DecisionTreeClassifier\n",
    "\n",
    "# Define variables to store best_model and best_result\n",
    "best_model = None\n",
    "best_result = 0\n",
    "\n",
    "# Loop over max_depth values from 1 to 5\n",
    "for depth in range(1, 6):\n",
    "    model = DecisionTreeClassifier(\n",
    "        random_state=1313, max_depth=depth\n",
    "    )\n",
    "    model.fit(features_train, target_train)\n",
    "    # Accuracy of model on training set\n",
    "    predictions_train = model.predict(features_train)\n",
    "    result_train = accuracy_score(target_train, predictions_train)\n",
    "    # Accuracy of model on validation set\n",
    "    predictions_valid = model.predict(features_valid)\n",
    "    result = accuracy_score(target_valid, predictions_valid)\n",
    "    print('max_depth =', depth, ': ', end='')\n",
    "    print(result)\n",
    "    # save the model with the best accuracy on the training set\n",
    "    if result > best_result:\n",
    "        best_model = model\n",
    "        best_result = result\n",
    "print()\n",
    "print(\"Accuracy of the model on the training set:\", result_train)\n",
    "print(\"Accuracy of the best model on the validation set:\", best_result)\n",
    "print(\"Best model on the validation set:\", best_model)"
   ]
  },
  {
   "cell_type": "markdown",
   "metadata": {},
   "source": [
    "**We created a loop to train the model with different values of the hyperparameter - max_depth=1-5. We found the algorithm DecisionTreeClassifier model reached the best accuracy in the training set with a max_depth=3 (82.36%). This means that the model is underfitted if max_depth <=2 and overfitted if max_depth >=4. The trained model applied to the validation set showed an accuracy of 77.91%**"
   ]
  },
  {
   "cell_type": "code",
   "execution_count": 5,
   "metadata": {},
   "outputs": [
    {
     "name": "stdout",
     "output_type": "stream",
     "text": [
      "n_estimators= 1 : 0.7309486780715396\n",
      "n_estimators= 2 : 0.7433903576982893\n",
      "n_estimators= 3 : 0.7465007776049767\n",
      "n_estimators= 4 : 0.7620528771384136\n",
      "n_estimators= 5 : 0.7667185069984448\n",
      "n_estimators= 6 : 0.7698289269051322\n",
      "n_estimators= 7 : 0.7698289269051322\n",
      "n_estimators= 8 : 0.7744945567651633\n",
      "n_estimators= 9 : 0.7791601866251944\n",
      "n_estimators= 10 : 0.7822706065318819\n",
      "n_estimators= 11 : 0.776049766718507\n",
      "n_estimators= 12 : 0.7822706065318819\n",
      "n_estimators= 13 : 0.776049766718507\n",
      "\n",
      "Accuracy of the model on the training set: 0.9854771784232366\n",
      "Accuracy of the best model on the validation set (n_estimators = 10): 0.7822706065318819\n"
     ]
    }
   ],
   "source": [
    "# 2)RandomForestClassifier\n",
    "\n",
    "# Define variables to store best_model and best_result\n",
    "best_score = 0\n",
    "best_est = 0\n",
    "# Loop over n_estimators values from 1 to 13. \n",
    "for est in range(1, 14):\n",
    "    model = RandomForestClassifier(\n",
    "        random_state=1313, n_estimators=est\n",
    "    )\n",
    "    model.fit(features_train, target_train)\n",
    "    # Accuracy of model on training set\n",
    "    predictions_train = model.predict(features_train)\n",
    "    result_train = accuracy_score(target_train, predictions_train)\n",
    "    # Accuracy of model on validation set\n",
    "    predictions_valid = model.predict(features_valid)\n",
    "    result = accuracy_score(target_valid, predictions_valid)\n",
    "    print('n_estimators=', est, ': ', end='')\n",
    "    print(result)\n",
    "    # Using the score() method. Save the model with the best accuracy on the training set\n",
    "    score = model.score(features_valid, target_valid)\n",
    "    if score > best_score:\n",
    "        best_score = score\n",
    "        best_est = est\n",
    "print()\n",
    "print(\"Accuracy of the model on the training set:\", result_train)\n",
    "print(\"Accuracy of the best model on the validation set (n_estimators = {}): {}\".format(best_est, best_score))"
   ]
  },
  {
   "cell_type": "markdown",
   "metadata": {},
   "source": [
    "**We created a loop to train the model with different values of the hyperparameter - n_estimators=1-14. We found the algorithm RandomForestClassifier model reached the best accuracy in the training set with a n_estimators=10 (98.54%). This means that the model is underfitted if n_estimators <=9 and overfitted if n_estimators >=11. The trained model applied to the validation set showed an accuracy of 78.2%**"
   ]
  },
  {
   "cell_type": "code",
   "execution_count": 6,
   "metadata": {},
   "outputs": [
    {
     "name": "stdout",
     "output_type": "stream",
     "text": [
      "Solver: liblinear\n",
      "Accuracy on the training set: 0.6996887966804979\n",
      "Accuracy on the validation set: 0.645412130637636\n",
      "\n",
      "Solver: newton-cg\n",
      "Accuracy on the training set: 0.7468879668049793\n",
      "Accuracy on the validation set: 0.7107309486780715\n",
      "\n",
      "Solver: lbfgs\n",
      "Accuracy on the training set: 0.7484439834024896\n",
      "Accuracy on the validation set: 0.7122861586314152\n",
      "\n",
      "Solver: sag\n",
      "Accuracy on the training set: 0.30031120331950206\n",
      "Accuracy on the validation set: 0.3545878693623639\n",
      "\n",
      "Solver: saga\n",
      "Accuracy on the training set: 0.7022821576763485\n",
      "Accuracy on the validation set: 0.645412130637636\n",
      "\n",
      "Accuracy of the best model on the validation set (solver = lbfgs): 0.7122861586314152\n"
     ]
    }
   ],
   "source": [
    "# 3) Logistic Regression\n",
    "\n",
    "# Define variables to store best_model and best_result\n",
    "best_score = 0\n",
    "best_solver = None\n",
    "\n",
    "# Create a list of solvers\n",
    "solvers = ['liblinear', 'newton-cg', 'lbfgs', 'sag', 'saga']\n",
    "\n",
    "# Create a function for testing different solvers. \n",
    "# Add the hyperparameters max_iter=10000, tol=1, warm_start=True to avoid convergence issues.\n",
    "def train_and_evaluate_logistic_regression(\n",
    "    features_train, target_train, features_valid, target_valid, solver, best_score, best_solver\n",
    "):\n",
    "    model = LogisticRegression(\n",
    "        random_state=1313, solver=solver, max_iter=10000, tol=1, warm_start=True\n",
    "    )\n",
    "    model.fit(features_train, target_train)\n",
    "    score_train = model.score(features_train, target_train)\n",
    "    score_valid = model.score(features_valid, target_valid)\n",
    "    print(f\"Solver: {solver}\")\n",
    "    print(\"Accuracy on the training set:\", score_train)\n",
    "    print(\"Accuracy on the validation set:\", score_valid)\n",
    "    print()\n",
    "    # Using the score() method to find the best hyperparameter\n",
    "    if score_valid > best_score:\n",
    "        best_score = score_valid\n",
    "        best_solver = solver\n",
    "    return best_score, best_solver\n",
    "\n",
    "\n",
    "# Loop through solvers and call the function\n",
    "for solver in solvers:\n",
    "    best_score, best_solver = train_and_evaluate_logistic_regression(\n",
    "        features_train, target_train, features_valid, target_valid, solver, best_score, best_solver\n",
    "    )\n",
    "print(\"Accuracy of the best model on the validation set (solver = {}): {}\".format(best_solver, best_score))"
   ]
  },
  {
   "cell_type": "markdown",
   "metadata": {},
   "source": [
    "**We created a loop to train the model with different values of the hyperparameter - solver. We found the algorithm LogisticRegression model reached the best accuracy in the training set with a solver=lbfgs (74.84%). The trained model applied to the validation set showed an accuracy of 71.22%**"
   ]
  },
  {
   "cell_type": "markdown",
   "metadata": {},
   "source": [
    "<div class=\"alert alert-block alert-danger\">✍\n",
    "    \n",
    "\n",
    "__Reviewer's comment №1__\n",
    "\n",
    "It is better after each section, graph (or series of tests) to write a conclusion on the obtained data taking into account the set business task - so it is easier to read the project, because future colleagues or customers will not have to interpret the results of each section, test or graph themselves."
   ]
  },
  {
   "cell_type": "markdown",
   "metadata": {},
   "source": [
    "<div class=\"alert alert-block alert-success\">✔️\n",
    "    \n",
    "\n",
    "__Reviewer's comment №2__\n",
    "\n",
    "I agree"
   ]
  },
  {
   "cell_type": "markdown",
   "metadata": {},
   "source": [
    "### • Check the quality of the model using the test set.\n",
    "### • Additional task: sanity check the model.\n",
    "\"*Always make sure that your model performs better than chance that is, do a sanity check.*\" (Chapter 3/7). Chance means that the model has 50% accuracy. A sanity check means that any model should have at least 50% accuracy. The three models pass the Sanity Check. \n",
    "\n",
    "### Test for Accuracy (run for training and test set):\n",
    "To develop a model with the highest possible accuracy for this project, we will check the accuracy using the test dataset. The threshold for accuracy is 0.75. We will create a Confusion Matrix and Classification Report for the optimal hyperparameter configuration for each algorithm."
   ]
  },
  {
   "cell_type": "code",
   "execution_count": 7,
   "metadata": {},
   "outputs": [
    {
     "name": "stdout",
     "output_type": "stream",
     "text": [
      "Decision Tree Accuracy (Trained model): 0.8075726141078838\n",
      "Decision Tree Accuracy (Test set): 0.7853810264385692\n",
      "\n",
      "Decision Tree Confusion Matrix (Test Set):\n",
      "[[433  32]\n",
      " [106  72]]\n",
      "\n",
      "Decision Tree Classification Report (Test Set):\n",
      "              precision    recall  f1-score   support\n",
      "\n",
      "           0       0.80      0.93      0.86       465\n",
      "           1       0.69      0.40      0.51       178\n",
      "\n",
      "    accuracy                           0.79       643\n",
      "   macro avg       0.75      0.67      0.69       643\n",
      "weighted avg       0.77      0.79      0.77       643\n",
      "\n"
     ]
    }
   ],
   "source": [
    "# Selecting the best hyperparametres we found for every model \n",
    "# We will create new variables for the trained models\n",
    "\n",
    "# 1. Decision Tree\n",
    "model_dt = DecisionTreeClassifier(random_state=1313, max_depth=3)\n",
    "model_dt.fit(features_train, target_train)\n",
    "# Predict Accuracy of the model on training set\n",
    "predictions_dt_train = model_dt.predict(features_train)\n",
    "accuracy_dt_train = accuracy_score(target_train, predictions_dt_train)\n",
    "# Predict Accuracy of the model on test set\n",
    "predictions_dt_test = model_dt.predict(features_test)\n",
    "accuracy_dt_test = accuracy_score(target_test, predictions_dt_test)\n",
    "\n",
    "print(\"Decision Tree Accuracy (Trained model):\", accuracy_dt_train)\n",
    "print(\"Decision Tree Accuracy (Test set):\", accuracy_dt_test)\n",
    "print()\n",
    "print(\"Decision Tree Confusion Matrix (Test Set):\")\n",
    "print(confusion_matrix(target_test, predictions_dt_test))\n",
    "print()\n",
    "print(\"Decision Tree Classification Report (Test Set):\")\n",
    "print(classification_report(target_test, predictions_dt_test))"
   ]
  },
  {
   "cell_type": "markdown",
   "metadata": {},
   "source": [
    "The Decision Tree trained model has 80.75% accuracy, and when applied to the test set with the best configuration of hyperparameters (max_depth=3), it was found to have 78.53% accuracy. We can see that the model has a comparable accuracy between the training set and the test set.<br>\n",
    "\n",
    "The confusion matrix shows the following values, from which we can calculate all the values in the classification report:<br>\n",
    "True Negatives (TN): 433<br>\n",
    "False Positives (FP): 32<br>\n",
    "False Negatives (FN): 106<br>\n",
    "True Positives (TP): 72<br>\n",
    "\n",
    "The classification report shows:<br>\n",
    "**Precision** is the ratio of correctly predicted positive observations to the total predicted positives. It is a measure of the accuracy of the positive predictions.<br>\n",
    "Precision for class 0: 0.80 - Out of all instances predicted as class 0, 80% were actually class 0. (Smart plan)<br>\n",
    "Precision for class 1: 0.69 - Out of all instances predicted as class 1, 69% were actually class 1. (Ultra plan)<br>\n",
    "\n",
    "**Recall**, also known as sensitivity or true positive rate, is the ratio of correctly predicted positive observations to the total actual positives. It measures the model's ability to capture all the positive instances.<br>\n",
    "Recall for class 0: 0.93 - Out of all actual class 0 instances, the model correctly predicted 93%. (Smart plan)<br>\n",
    "Recall for class 1: 0.40 - Out of all actual class 1 instances, the model correctly predicted 40%. (Ultra plan)<br>\n",
    "\n",
    "The **F1-score** is the weighted average or harmonic mean of precision and recall. It is a balance between \n",
    "precision and recall, providing a single metric that considers both false positives and false negatives.<br>\n",
    "F1 score for class 0: 0.86 - The weighted average for Class 0 is 86%.(Smart plan)<br>\n",
    "F1 score for class 1: 0.51 - The weighted average for Class 1 is 51%.(Ultra plan)<br>\n",
    "\n",
    "**Support** is the number of actual occurrences of the class in the specified dataset.<br>\n",
    "Class 0 (Smart plan) = 465<br>\n",
    "Class 1 (Ultra plan) = 178<br>\n",
    "\n",
    "The classification report shows a greater accuracy of the Decision Tree model to predict Class 0 values (Smart plan). This might be due simply to the fact that there are more instances of this value in the test set. The weighted average F-1 score of the test set balances the greater accuracy of the Smart plan (86%) and lower accuracy of the Ultra plan (51%), to give us a weighted accuracy of 77% of the Decision Tree trained model on the test set.<br>"
   ]
  },
  {
   "cell_type": "markdown",
   "metadata": {},
   "source": [
    "<div class=\"alert alert-block alert-success\">✔️\n",
    "    \n",
    "\n",
    "__Reviewer's comment №1__\n",
    "\n",
    "I agree"
   ]
  },
  {
   "cell_type": "code",
   "execution_count": 8,
   "metadata": {},
   "outputs": [
    {
     "name": "stdout",
     "output_type": "stream",
     "text": [
      "Random Forest Accuracy (Trained model): 0.9740663900414938\n",
      "Random Forest Accuracy (Test set): 0.7931570762052877\n",
      "\n",
      "Random Forest Confusion Matrix (Test Set):\n",
      "[[419  46]\n",
      " [ 87  91]]\n",
      "\n",
      "Random Forest Classification Report (Test Set):\n",
      "              precision    recall  f1-score   support\n",
      "\n",
      "           0       0.83      0.90      0.86       465\n",
      "           1       0.66      0.51      0.58       178\n",
      "\n",
      "    accuracy                           0.79       643\n",
      "   macro avg       0.75      0.71      0.72       643\n",
      "weighted avg       0.78      0.79      0.78       643\n",
      "\n"
     ]
    }
   ],
   "source": [
    "# 2.Random Forest\n",
    "model_rf = RandomForestClassifier(random_state=1313, n_estimators=10)\n",
    "model_rf.fit(features_train, target_train)\n",
    "# Predict Accuracy of the model on training set\n",
    "predictions_rf_train = model_rf.predict(features_train)\n",
    "accuracy_rf_train = accuracy_score(target_train, predictions_rf_train)\n",
    "# Predict Accuracy of the model on test set\n",
    "predictions_rf_test = model_rf.predict(features_test)\n",
    "accuracy_rf_test = accuracy_score(target_test, predictions_rf_test)\n",
    "\n",
    "print(\"Random Forest Accuracy (Trained model):\", accuracy_rf_train)\n",
    "print(\"Random Forest Accuracy (Test set):\", accuracy_rf_test)\n",
    "print()\n",
    "print(\"Random Forest Confusion Matrix (Test Set):\")\n",
    "print(confusion_matrix(target_test, predictions_rf_test))\n",
    "print()\n",
    "print(\"Random Forest Classification Report (Test Set):\")\n",
    "print(classification_report(target_test, predictions_rf_test))"
   ]
  },
  {
   "cell_type": "markdown",
   "metadata": {},
   "source": [
    "The Random Forest trained model has 97.4% accuracy, and when applied to the test set with the best configuration of hyperparameters (n_estimators=10), it was found to have 79.31% accuracy. We can see that the model has lower accuracy for the test set.<br>\n",
    "\n",
    "The confusion matrix shows the following values, from which we can calculate all the values in the classification report:<br>\n",
    "True Negatives (TN): 419<br>\n",
    "False Positives (FP): 46<br>\n",
    "False Negatives (FN): 87<br>\n",
    "True Positives (TP): 91<br>\n",
    "\n",
    "The classification report shows:<br>\n",
    "Precision for class 0: 0.83 - Out of all instances predicted as class 0, 83% were actually class 0. (Smart plan)<br>\n",
    "Precision for class 1: 0.66 - Out of all instances predicted as class 1, 66% were actually class 1. (Ultra plan)<br>\n",
    "\n",
    "Recall for class 0: 0.90 - Out of all actual class 0 instances, the model correctly predicted 90%. (Smart plan)<br>\n",
    "Recall for class 1: 0.51 - Out of all actual class 1 instances, the model correctly predicted 51%. (Ultra plan)<br>\n",
    "\n",
    "F1 score for class 0: 0.86 - The weighted average for Class 0 is 86%.(Smart plan)<br>\n",
    "F1 score for class 1: 0.58 - The weighted average for Class 1 is 58%.(Ultra plan)<br>\n",
    "\n",
    "Support - Class 0 (Smart plan) = 465<br>\n",
    "Support - Class 1 (Ultra plan) = 178<br>\n",
    "\n",
    "The classification report shows a greater accuracy of the Random Forest model to predict Class 0 values (Smart plan). This might be due simply to the fact that there are more instances of this value in the test set. The weighted average F-1 score of the test set balances the greater accuracy of the Smart plan (86%) and lower accuracy of the Ultra plan (58%), to give us a weighted accuracy of 78% of the Random Forest trained model on the test set. In spite of having a seemingly greater accuracy, we can conclude that the Random Forest model has only a very slight advantage over the Decision Tree model. In any case, this is the model with the **highest possible accuracy** in our project.<br>"
   ]
  },
  {
   "cell_type": "code",
   "execution_count": 9,
   "metadata": {},
   "outputs": [
    {
     "name": "stdout",
     "output_type": "stream",
     "text": [
      "Logistic Regression Accuracy (Trained model): 0.7484439834024896\n",
      "Logistic Regression Accuracy (Test set): 0.7620528771384136\n",
      "\n",
      "Logistic Regression Confusion Matrix (Test Set):\n",
      "[[458   7]\n",
      " [146  32]]\n",
      "\n",
      "Logistic Regression Classification Report (Test Set):\n",
      "              precision    recall  f1-score   support\n",
      "\n",
      "           0       0.76      0.98      0.86       465\n",
      "           1       0.82      0.18      0.29       178\n",
      "\n",
      "    accuracy                           0.76       643\n",
      "   macro avg       0.79      0.58      0.58       643\n",
      "weighted avg       0.78      0.76      0.70       643\n",
      "\n"
     ]
    }
   ],
   "source": [
    "# 3. Logistic Regression\n",
    "model_lr = LogisticRegression(random_state=1313, solver='lbfgs', max_iter=10000, tol=1, warm_start=True)\n",
    "model_lr.fit(features_train, target_train)\n",
    "# Predict Accuracy of the model on training set\n",
    "predictions_lr_train = model_lr.predict(features_train)\n",
    "accuracy_lr_train = accuracy_score(target_train, predictions_lr_train)\n",
    "# Predict Accuracy of the model on test set\n",
    "predictions_lr_test = model_lr.predict(features_test)\n",
    "accuracy_lr_test = accuracy_score(target_test, predictions_lr_test)\n",
    "\n",
    "print(\"Logistic Regression Accuracy (Trained model):\", accuracy_lr_train)\n",
    "print(\"Logistic Regression Accuracy (Test set):\", accuracy_lr_test)\n",
    "print()\n",
    "print(\"Logistic Regression Confusion Matrix (Test Set):\")\n",
    "print(confusion_matrix(target_test, predictions_lr_test))\n",
    "print()\n",
    "print(\"Logistic Regression Classification Report (Test Set):\")\n",
    "print(classification_report(target_test, predictions_lr_test))"
   ]
  },
  {
   "cell_type": "markdown",
   "metadata": {},
   "source": [
    "The Logistic Regression trained model has 74.84% accuracy, and when applied to the test set with the best configuration of hyperparameters (solver='lbfgs', max_iter=10000, tol=1, warm_start=True), it was found to have 76.20% accuracy. We can see that the model has a comparable accuracy between the training set and the test set. It has also lower accuracy than the other two models.<br>\n",
    "\n",
    "The confusion matrix shows the following values, from which we can calculate all the values in the classification report:<br>\n",
    "True Negatives (TN): 458<br>\n",
    "False Positives (FP): 7<br>\n",
    "False Negatives (FN): 146<br>\n",
    "True Positives (TP): 32<br>\n",
    "\n",
    "The classification report shows:<br>\n",
    "Precision for class 0: 0.76 - Out of all instances predicted as class 0, 76% were actually class 0. (Smart plan)<br>\n",
    "Precision for class 1: 0.82 - Out of all instances predicted as class 1, 82% were actually class 1. (Ultra plan)<br>\n",
    "\n",
    "Recall for class 0: 0.98 - Out of all actual class 0 instances, the model correctly predicted 98%. (Smart plan)<br>\n",
    "Recall for class 1: 0.18 - Out of all actual class 1 instances, the model correctly predicted 18%. (Ultra plan)<br>\n",
    "\n",
    "F1 score for class 0: 0.86 - The weighted average for Class 0 is 86%.(Smart plan)<br>\n",
    "F1 score for class 1: 0.29 - The weighted average for Class 1 is 29%.(Ultra plan)<br>\n",
    "\n",
    "Support - Class 0 (Smart plan) = 465<br>\n",
    "Support - Class 1 (Ultra plan) = 178<br>\n",
    "\n",
    "The classification report shows a greater accuracy of the Logistic Regression model to predict Class 0 values (Smart plan). It also shows a very low accuracy to predict Class 1 values. The weighted average F-1 score of the test set balances the greater accuracy of the Smart plan (86%) and very low accuracy of the Ultra plan (29%), to give us a weighted accuracy of 70% of the model Logistic Regression model on the test set. The Logistic Regression model is below the 75% accuracy threshold.<br>"
   ]
  },
  {
   "cell_type": "markdown",
   "metadata": {},
   "source": [
    "### Plotting Decision Boundaries\n",
    "To illustrate the accuracy of the three different models, we created a Decision Boundary graph using the .contourf function from Matplotlib. The code was inspired by the Classifier Comparison graph in Scikit Learn example documents (https://scikit-learn.org/stable/auto_examples/classification/plot_classifier_comparison.html#sphx-glr-auto-examples-classification-plot-classifier-comparison-py)"
   ]
  },
  {
   "cell_type": "code",
   "execution_count": 10,
   "metadata": {},
   "outputs": [
    {
     "data": {
      "image/png": "[encoded data removed]",
      "text/plain": [
       "<Figure size 1296x432 with 4 Axes>"
      ]
     },
     "metadata": {},
     "output_type": "display_data"
    }
   ],
   "source": [
    "def plot_decision_boundary(model, X, y, ax=None, plot_title=None):\n",
    "    h =0.06  # step size in the mesh\n",
    "    x_min, x_max = X[:, 0].min() - 1, X[:, 0].max() + 1\n",
    "    y_min, y_max = X[:, 1].min() - 1, X[:, 1].max() + 1\n",
    "    xx, yy = np.meshgrid(np.arange(x_min, x_max, h), np.arange(y_min, y_max, h))\n",
    "\n",
    "    if ax is None:\n",
    "        ax = plt.gca()\n",
    "\n",
    "    if model is not None:\n",
    "        Z = model.predict(np.c_[xx.ravel(), yy.ravel()])\n",
    "        Z = Z.reshape(xx.shape)\n",
    "\n",
    "        # Plot contour\n",
    "        ax.contourf(xx, yy, Z, cmap=plt.cm.RdBu, alpha=0.8)\n",
    "\n",
    "    # Plot points\n",
    "    scatter = ax.scatter(X[:, 0], X[:, 1], c=y, cmap=plt.cm.bwr, edgecolors=\"k\")\n",
    "    ax.set_xlim(X[:, 0].min() - 0.5, X[:, 0].max() + 0.5)\n",
    "    ax.set_ylim(X[:, 1].min() - 0.5, X[:, 1].max() + 0.5)\n",
    "\n",
    "    # Add labels and title\n",
    "    ax.set_xticks(())\n",
    "    ax.set_yticks(())\n",
    "    if plot_title:\n",
    "        ax.set_title(plot_title)\n",
    "\n",
    "    return scatter, ax\n",
    "\n",
    "# Your models\n",
    "models = [\n",
    "    DecisionTreeClassifier(random_state=1313, max_depth=3),\n",
    "    RandomForestClassifier(random_state=1313, n_estimators=10),\n",
    "    LogisticRegression(random_state=1313, solver='lbfgs', max_iter=10000, tol=1, warm_start=True),\n",
    "]\n",
    "\n",
    "model_names = [\n",
    "    \"Decision Tree\",\n",
    "    \"Random Forest\",\n",
    "    \"Logistic Regression\",\n",
    "]\n",
    "\n",
    "# Your dataset\n",
    "X, y = make_moons(noise=0.3, random_state=0)\n",
    "X_train, X_test, y_train, y_test = train_test_split(X, y, test_size=0.4, random_state=42)\n",
    "\n",
    "# Plotting\n",
    "figure, axes = plt.subplots(1, len(models) + 1, figsize=(18, 6))\n",
    "axes = axes.flatten()\n",
    "scatter = plot_decision_boundary(None, X, y, ax=axes[0], plot_title=\"Input data\")\n",
    "\n",
    "# Iterate over models\n",
    "for name, model, ax in zip(model_names, models, axes[1:]):\n",
    "    # Train the model\n",
    "    clf = make_pipeline(StandardScaler(), model)\n",
    "    clf.fit(X_train, y_train)\n",
    "\n",
    "    # Plot decision boundary\n",
    "    plot_decision_boundary(clf, X, y, ax=ax, plot_title=name)\n",
    "\n",
    "plt.tight_layout()\n",
    "plt.show()"
   ]
  },
  {
   "cell_type": "markdown",
   "metadata": {},
   "source": [
    "<div class=\"alert alert-block alert-success\">✔️\n",
    "    \n",
    "\n",
    "__Reviewer's comment №1__\n",
    "\n",
    "Yes, it is quite normal that you had to use a different value of n_estimators than the assumed \"optimal\" value in the previous graph to maximize the accuracy of the random forest model on the test dataset.\n",
    "\n",
    "\"Optimal\" value of n_estimators in the graph can be determined by considering a specific metric or criterion, such as accuracy, F1-measure, or cross-validation, based on the data provided. However, in a real-world problem, there may be a need to fine-tune the hyperparameters of the model to achieve the best result on the test data.\n",
    "\n",
    "It is important to realize that model performance depends on many factors, including data characteristics, task specificity, and the size and quality of the training sample. Different hyperparameter values can affect model performance in different contexts.\n",
    "\n",
    "Therefore, if you need to adjust n_estimators to maximize accuracy on your test dataset, it means that your model is data-specific and finds the best configuration for training given your requirements and data.\n",
    "\n",
    "It is important to experiment with different hyperparameter values and monitor model performance on test data, and regularly evaluate the accuracy and overall performance of the model on new data to ensure that the model is doing well."
   ]
  },
  {
   "cell_type": "markdown",
   "metadata": {},
   "source": [
    "<div class=\"alert alert-block alert-success\">✔️\n",
    "    \n",
    "\n",
    "__Reviewer's comment №3__\n",
    "\n",
    "\n",
    "Otherwise it's great😊. Your project is begging for github =)   \n",
    "    \n",
    "Congratulations on the successful completion of the project 😊👍\n",
    "And I wish you success in new works 😊"
   ]
  }
 ],
 "metadata": {
  "kernelspec": {
   "display_name": "Python 3 (ipykernel)",
   "language": "python",
   "name": "python3"
  },
  "language_info": {
   "codemirror_mode": {
    "name": "ipython",
    "version": 3
   },
   "file_extension": ".py",
   "mimetype": "text/x-python",
   "name": "python",
   "nbconvert_exporter": "python",
   "pygments_lexer": "ipython3",
   "version": "3.9.5"
  },
  "toc": {
   "base_numbering": 1,
   "nav_menu": {},
   "number_sections": true,
   "sideBar": true,
   "skip_h1_title": true,
   "title_cell": "Table of Contents",
   "title_sidebar": "Contents",
   "toc_cell": false,
   "toc_position": {},
   "toc_section_display": true,
   "toc_window_display": false
  }
 },
 "nbformat": 4,
 "nbformat_minor": 2
}
